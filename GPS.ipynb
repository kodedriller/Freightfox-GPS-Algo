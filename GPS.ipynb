{
  "nbformat": 4,
  "nbformat_minor": 0,
  "metadata": {
    "colab": {
      "provenance": []
    },
    "kernelspec": {
      "name": "python3",
      "display_name": "Python 3"
    },
    "language_info": {
      "name": "python"
    }
  },
  "cells": [
    {
      "cell_type": "code",
      "source": [
        "import pandas as pd\n",
        "import math\n",
        "from typing import List, Tuple\n",
        "\n",
        "class StoppageDetector:\n",
        "    # Initialize the distance_range that determines if a location is considered as a stoppage or not\n",
        "    def __init__(self, distance_range: float):\n",
        "        self.distance_range = distance_range\n",
        "\n",
        "    # Calculate the distance between two GPS locations using the Haversine formula\n",
        "    def distance(self, lat1, lon1, lat2, lon2):\n",
        "        R = 6371 # Earth radius in km\n",
        "        lat1, lon1, lat2, lon2 = map(math.radians, [lat1, lon1, lat2, lon2])\n",
        "        dlat = lat2 - lat1\n",
        "        dlon = lon2 - lon1\n",
        "        a = math.sin(dlat / 2)**2 + math.cos(lat1) * math.cos(lat2) * math.sin(dlon / 2)**2\n",
        "        c = 2 * math.atan2(math.sqrt(a), math.sqrt(1 - a))\n",
        "        return R * c\n",
        "\n",
        "    # Initialize variables to store start and end timestamps, current and previous locations\n",
        "    def find_stoppage_points(self, data: pd.DataFrame) -> List[Tuple[str, str, List[dict]]]:\n",
        "        # Finds the stoppage points in the data by comparing the distances between consecutive GPS coordinates\n",
        "        start_timestamp = data.iloc[0]['ts']\n",
        "        end_timestamp = data.iloc[0]['ts']\n",
        "        current_location = {'lat': data.iloc[0]['latitude'], 'long': data.iloc[0]['longitude']}\n",
        "        previous_location = {'lat': data.iloc[0]['latitude'], 'long': data.iloc[0]['longitude']}\n",
        "        result = []\n",
        "\n",
        "        # Loop through the GPS data\n",
        "        for i in range(1, len(data)):\n",
        "            d = self.distance(current_location['lat'], current_location['long'], previous_location['lat'], previous_location['long'])\n",
        "            if d <= self.distance_range:\n",
        "                end_timestamp = data.iloc[i]['ts']\n",
        "                current_location = {'lat': data.iloc[i]['latitude'], 'long': data.iloc[i]['longitude']}\n",
        "            else:\n",
        "                result.append([start_timestamp, end_timestamp, [previous_location, current_location]])\n",
        "                start_timestamp = data.iloc[i]['ts']\n",
        "                end_timestamp = data.iloc[i]['ts']\n",
        "                current_location = {'lat': data.iloc[i]['latitude'], 'long': data.iloc[i]['longitude']}\n",
        "                previous_location = {'lat': data.iloc[i]['latitude'], 'long': data.iloc[i]['longitude']}\n",
        "        result.append([start_timestamp, end_timestamp, [previous_location, current_location]])\n",
        "        return result\n",
        "\n",
        "    def predict(self, file_path: str) -> List[Tuple[str, str, List[dict]]]:\n",
        "        data = pd.read_csv(file_path)\n",
        "        return self.find_stoppage_points(data)\n",
        "\n",
        "model = StoppageDetector(5)\n",
        "result = model.predict('sample_gps1.csv')\n",
        "df_stoppages = pd.DataFrame(result)\n",
        "df_stoppages.columns=['start_timestamp','end_timestamp','[ {lat1, long1}, {lat2, long2}] ] ']\n",
        "\n",
        "df_stoppages.to_csv(\"stoppages.csv\",index=False)\n"
      ],
      "metadata": {
        "id": "RRUEoJPzuRs8"
      },
      "execution_count": 21,
      "outputs": []
    }
  ]
}